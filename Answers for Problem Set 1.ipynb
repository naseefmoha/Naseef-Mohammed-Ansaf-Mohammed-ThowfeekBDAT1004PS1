{
 "cells": [
  {
   "cell_type": "markdown",
   "id": "36d50e6b",
   "metadata": {},
   "source": [
    "# Question 1\n",
    "What data type is each of the following (evaluate where necessary)?\n",
    "5 - \n",
    "5.0\n",
    "5 > 1\n",
    "'5'\n",
    "5 * 2\n",
    "'5' * 2\n",
    "'5' + '2'\n",
    "5 / 2\n",
    "5 % 2\n",
    "{5, 2, 1}\n",
    "5 == 3\n",
    "Pi (the number)"
   ]
  },
  {
   "cell_type": "markdown",
   "id": "a346df0f",
   "metadata": {},
   "source": [
    "1) 5 - it is an integer. so when we evaluate in python with print(type(a)) it shows <class 'int'>"
   ]
  },
  {
   "cell_type": "code",
   "execution_count": 3,
   "id": "daaebaa6",
   "metadata": {},
   "outputs": [
    {
     "name": "stdout",
     "output_type": "stream",
     "text": [
      "<class 'int'>\n"
     ]
    }
   ],
   "source": [
    "a=5\n",
    "print(type(a))"
   ]
  },
  {
   "cell_type": "markdown",
   "id": "e321b2b0",
   "metadata": {},
   "source": [
    "2. 5.0 - it is a float. so when we evaluate in python with print(type()) it shows <class 'float'>"
   ]
  },
  {
   "cell_type": "code",
   "execution_count": 4,
   "id": "784ebbde",
   "metadata": {},
   "outputs": [
    {
     "name": "stdout",
     "output_type": "stream",
     "text": [
      "<class 'float'>\n"
     ]
    }
   ],
   "source": [
    "a=5.0\n",
    "print(type(a))"
   ]
  },
  {
   "cell_type": "markdown",
   "id": "19efa906",
   "metadata": {},
   "source": [
    "3. 5>1 - It is a boolean. So when we evaluate in python with print9type()) it says <class 'bool'>."
   ]
  },
  {
   "cell_type": "code",
   "execution_count": 5,
   "id": "abb61e3c",
   "metadata": {},
   "outputs": [
    {
     "name": "stdout",
     "output_type": "stream",
     "text": [
      "<class 'bool'>\n"
     ]
    }
   ],
   "source": [
    "a=5>1\n",
    "print(type(a))"
   ]
  },
  {
   "cell_type": "markdown",
   "id": "9fd0c3fb",
   "metadata": {},
   "source": [
    "4. '5' - It is a string when we evaluate in python it shows <class 'str'>."
   ]
  },
  {
   "cell_type": "code",
   "execution_count": 7,
   "id": "79b7a9c9",
   "metadata": {},
   "outputs": [
    {
     "name": "stdout",
     "output_type": "stream",
     "text": [
      "<class 'str'>\n"
     ]
    }
   ],
   "source": [
    "a='5'\n",
    "print(type(a))"
   ]
  },
  {
   "cell_type": "markdown",
   "id": "0ad21221",
   "metadata": {},
   "source": [
    "5. 5*2 It is an integer and when we evaluate with python it shows <class 'int'>."
   ]
  },
  {
   "cell_type": "code",
   "execution_count": 8,
   "id": "b3dbf875",
   "metadata": {},
   "outputs": [
    {
     "name": "stdout",
     "output_type": "stream",
     "text": [
      "<class 'int'>\n"
     ]
    }
   ],
   "source": [
    "a=5*2\n",
    "print(type(a))"
   ]
  },
  {
   "cell_type": "markdown",
   "id": "56cf3b32",
   "metadata": {},
   "source": [
    "6. '5' * 2 - It is an string and wehn we evaluates it shows <class 'str'>."
   ]
  },
  {
   "cell_type": "code",
   "execution_count": 9,
   "id": "cd4117b8",
   "metadata": {},
   "outputs": [
    {
     "name": "stdout",
     "output_type": "stream",
     "text": [
      "<class 'str'>\n"
     ]
    }
   ],
   "source": [
    "a='5'*2\n",
    "print(type(a))"
   ]
  },
  {
   "cell_type": "markdown",
   "id": "9cb91722",
   "metadata": {},
   "source": [
    "7. '5' + '2' - It is a string when we evaluuate with python it shows <class 'str'>"
   ]
  },
  {
   "cell_type": "code",
   "execution_count": 10,
   "id": "468d200c",
   "metadata": {},
   "outputs": [
    {
     "name": "stdout",
     "output_type": "stream",
     "text": [
      "<class 'str'>\n"
     ]
    }
   ],
   "source": [
    "a='5'+'2'\n",
    "print(type(a))"
   ]
  },
  {
   "cell_type": "markdown",
   "id": "80fb5693",
   "metadata": {},
   "source": [
    "8. 5/2 - This is float when we evaluate it shows <class 'float'>."
   ]
  },
  {
   "cell_type": "code",
   "execution_count": 11,
   "id": "21c8ea99",
   "metadata": {},
   "outputs": [
    {
     "name": "stdout",
     "output_type": "stream",
     "text": [
      "<class 'float'>\n"
     ]
    }
   ],
   "source": [
    "a=5/2\n",
    "print(type(a))"
   ]
  },
  {
   "cell_type": "markdown",
   "id": "6a31123e",
   "metadata": {},
   "source": [
    "9. 5 % 2 - It is an integer when we evaluate, it shows <class'int'>."
   ]
  },
  {
   "cell_type": "code",
   "execution_count": 12,
   "id": "7bfd6535",
   "metadata": {},
   "outputs": [
    {
     "name": "stdout",
     "output_type": "stream",
     "text": [
      "<class 'int'>\n"
     ]
    }
   ],
   "source": [
    "a=5%2\n",
    "print(type(a))"
   ]
  },
  {
   "cell_type": "markdown",
   "id": "980003d1",
   "metadata": {},
   "source": [
    "10. {5, 2, 1} This is a class set which contains unique elements. It gives out put in assending order of the number."
   ]
  },
  {
   "cell_type": "code",
   "execution_count": 13,
   "id": "1f6e3d63",
   "metadata": {},
   "outputs": [
    {
     "name": "stdout",
     "output_type": "stream",
     "text": [
      "<class 'set'>\n"
     ]
    }
   ],
   "source": [
    "a={5,2,1}\n",
    "print(type(a))"
   ]
  },
  {
   "cell_type": "markdown",
   "id": "ec91cae6",
   "metadata": {},
   "source": [
    "11. 5 == 3 - This is a boolean when we evaluate it shows <class 'bool'>."
   ]
  },
  {
   "cell_type": "code",
   "execution_count": 17,
   "id": "ea4b806e",
   "metadata": {},
   "outputs": [
    {
     "name": "stdout",
     "output_type": "stream",
     "text": [
      "<class 'bool'>\n"
     ]
    }
   ],
   "source": [
    "a=5==3\n",
    "print(type(a))"
   ]
  },
  {
   "cell_type": "markdown",
   "id": "97fc37e9",
   "metadata": {},
   "source": [
    "12. Pi (the number) - This is a float when we evaluate it shows <class 'float'>"
   ]
  },
  {
   "cell_type": "code",
   "execution_count": 1,
   "id": "49042bc5",
   "metadata": {},
   "outputs": [
    {
     "name": "stdout",
     "output_type": "stream",
     "text": [
      "<class 'float'>\n"
     ]
    }
   ],
   "source": [
    "import math\n",
    "a = math.pi\n",
    "print(type(a))"
   ]
  },
  {
   "cell_type": "markdown",
   "id": "c3eb1da8",
   "metadata": {},
   "source": [
    "# Question 2\n",
    "Write (and evaluate) python expressions that answer these questions:"
   ]
  },
  {
   "cell_type": "markdown",
   "id": "50387139",
   "metadata": {},
   "source": [
    "a. How many letters are there in 'Supercalifragilisticexpialidocious'?"
   ]
  },
  {
   "cell_type": "code",
   "execution_count": 1,
   "id": "e09538c7",
   "metadata": {},
   "outputs": [
    {
     "name": "stdout",
     "output_type": "stream",
     "text": [
      "34\n"
     ]
    }
   ],
   "source": [
    "a='Supercalifragilisticexpialidocious'\n",
    "print(len(a))"
   ]
  },
  {
   "cell_type": "markdown",
   "id": "f86852bd",
   "metadata": {},
   "source": [
    "b. Does 'Supercalifragilisticexpialidocious' contain 'ice' as a substring?"
   ]
  },
  {
   "cell_type": "code",
   "execution_count": 2,
   "id": "a4d454dd",
   "metadata": {},
   "outputs": [
    {
     "name": "stdout",
     "output_type": "stream",
     "text": [
      "True\n"
     ]
    }
   ],
   "source": [
    "a='Supercalifragilisticexpialidocious'\n",
    "print('ice' in a)"
   ]
  },
  {
   "cell_type": "markdown",
   "id": "7d2c0753",
   "metadata": {},
   "source": [
    "Which of the following words is the longest:\n",
    "Supercalifragilisticexpialidocious, Honorificabilitudinitatibus, or\n",
    "Bababadalgharaghtakamminarronnkonn?"
   ]
  },
  {
   "cell_type": "code",
   "execution_count": 3,
   "id": "429b8b0e",
   "metadata": {},
   "outputs": [
    {
     "name": "stdout",
     "output_type": "stream",
     "text": [
      "The longest word is: Supercalifragilisticexpialidocious\n"
     ]
    }
   ],
   "source": [
    "comp=['Supercalifragilisticexpialidocious','Honorificabilitudinitatibus','Bababadalgharaghtakamminarronnkonn']\n",
    "longest_comp=max(comp, key=len)\n",
    "print ('The longest word is:',longest_comp)"
   ]
  },
  {
   "cell_type": "markdown",
   "id": "8592d472",
   "metadata": {},
   "source": [
    "d. Which composer comes first in the dictionary: 'Berlioz', 'Borodin', 'Brian',\n",
    "'Bartok', 'Bellini', 'Buxtehude', 'Bernstein'. Which one comes last?"
   ]
  },
  {
   "cell_type": "code",
   "execution_count": 16,
   "id": "7353be80",
   "metadata": {},
   "outputs": [
    {
     "name": "stdout",
     "output_type": "stream",
     "text": [
      "First composer is: Berlioz\n",
      "Last composer is: Bernstein\n"
     ]
    }
   ],
   "source": [
    "compo=[ 'Berlioz', 'Borodin', 'Brian', 'Bartok', 'Bellini', 'Buxtehude', 'Bernstein']\n",
    "print('First composer is:',(compo[0]))\n",
    "print('Last composer is:',(compo[-1]))"
   ]
  },
  {
   "cell_type": "markdown",
   "id": "edfb9a28",
   "metadata": {},
   "source": [
    "# Question 3\n",
    "Implement function triangleArea(a,b,c) that takes as input the lengths of the 3\n",
    "sides of a triangle and returns the area of the triangle. By Heron's formula, the area\n",
    "of a triangle with side lengths a, b, and c is s(s - a)(s -b)(s - c), where\n",
    "s = (a +b +c)/2.\n",
    ">>> triangleArea(2,2,2)\n",
    "1.7320508075688772"
   ]
  },
  {
   "cell_type": "code",
   "execution_count": 3,
   "id": "693a1faf",
   "metadata": {},
   "outputs": [
    {
     "name": "stdout",
     "output_type": "stream",
     "text": [
      "1.7320508075688772\n"
     ]
    }
   ],
   "source": [
    "def triangleArea(a,b,c):\n",
    "    s=(a+b+c)/2\n",
    "    area=(s*(s-a)*(s-b)*(s-c))**0.5\n",
    "    return area\n",
    "print (triangleArea(2,2,2))"
   ]
  },
  {
   "cell_type": "markdown",
   "id": "0825fca5",
   "metadata": {},
   "source": [
    "# Question 4\n",
    "Write a program in python to separate odd and even integers in separate arrays. Go\n",
    "to the editor\n",
    "Test Data :\n",
    "Input the number of elements to be stored in the array :5\n",
    "Input 5 elements in the array :\n",
    "element - 0 : 25\n",
    "element - 1 : 47\n",
    "element - 2 : 42\n",
    "element - 3 : 56\n",
    "element - 4 : 32\n",
    "Expected Output:\n",
    "The Even elements are:\n",
    "42 56 32\n",
    "The Odd elements are :\n",
    "25 47"
   ]
  },
  {
   "cell_type": "code",
   "execution_count": 5,
   "id": "b46dfe8f",
   "metadata": {},
   "outputs": [
    {
     "name": "stdout",
     "output_type": "stream",
     "text": [
      "Please input the number of elements that are to be stored in the array: 5\n",
      "Input 5 Elements that are in the array:\n",
      "Element - 0 : 25\n",
      "Element - 1 : 47\n",
      "Element - 2 : 42\n",
      "Element - 3 : 56\n",
      "Element - 4 : 32\n",
      "Odd numbers: [25, 47]\n",
      "Even numbers: [42, 56, 32]\n"
     ]
    }
   ],
   "source": [
    "num_elem = int(input(\"Please input the number of elements that are to be stored in the array: \"))\n",
    "\n",
    "odd_numbers = []\n",
    "even_numbers = []\n",
    "\n",
    "print(\"Input\", num_elem, \"Elements that are in the array:\")\n",
    "for i in range(num_elem):\n",
    "    number = int(input(\"Element - \" + str(i) + \" : \"))\n",
    "    if number % 2 == 0:\n",
    "        even_numbers.append(number)\n",
    "    else:\n",
    "        odd_numbers.append(number)\n",
    "\n",
    "print(\"Odd numbers:\", odd_numbers)\n",
    "print(\"Even numbers:\", even_numbers)"
   ]
  },
  {
   "cell_type": "markdown",
   "id": "8360858b",
   "metadata": {},
   "source": [
    "# Question 5\n",
    "a. Write a function inside(x,y,x1,y1,x2,y2) that returns True or False\n",
    "depending on whether the point (x,y) lies in the rectangle with lower left\n",
    "corner (x1,y1) and upper right corner (x2,y2)."
   ]
  },
  {
   "cell_type": "code",
   "execution_count": 6,
   "id": "4cbe6c38",
   "metadata": {},
   "outputs": [
    {
     "name": "stdout",
     "output_type": "stream",
     "text": [
      "True\n",
      "False\n"
     ]
    }
   ],
   "source": [
    "def inside(x, y, x1, y1, x2, y2):\n",
    "    \n",
    "    if x1 <= x <= x2 and y1 <= y <= y2:\n",
    "        return True\n",
    "    else:\n",
    "        return False\n",
    "\n",
    "#Testing\n",
    "print(inside(1, 1, 0, 0, 2, 3)) \n",
    "print(inside(-1, -1, 0, 0, 2, 3))\n"
   ]
  },
  {
   "cell_type": "markdown",
   "id": "621470a1",
   "metadata": {},
   "source": [
    "b. Use function inside() from part a. to write an expression that tests whether\n",
    "the point (1,1) lies in both of the following rectangles: one with lower left\n",
    "corner (0.3, 0.5) and upper right corner (1.1, 0.7) and the other with lower\n",
    "left corner (0.5, 0.2) and upper right corner (1.1, 2)."
   ]
  },
  {
   "cell_type": "code",
   "execution_count": 7,
   "id": "5709fefd",
   "metadata": {},
   "outputs": [
    {
     "name": "stdout",
     "output_type": "stream",
     "text": [
      "Is (1, 1) inside the first rectangle? False\n",
      "Is (1, 1) inside the second rectangle? True\n",
      "Is (1, 1) inside both rectangles? False\n"
     ]
    }
   ],
   "source": [
    "# Define the cordination\n",
    "rectan1 = (0.3, 0.5, 1.1, 0.7)  \n",
    "rectan2 = (0.5, 0.2, 1.1, 2)    \n",
    "\n",
    "# Test if the point (1, 1) lies inside both rectangles\n",
    "point = (1, 1)\n",
    "is_in_rectan1 = inside(point[0], point[1], rectan1[0], rectan1[1], rectan1[2], rectan1[3])\n",
    "is_in_rectan2 = inside(point[0], point[1], rectan2[0], rectan2[1], rectan2[2], rectan2[3])\n",
    "\n",
    "print(\"Is (1, 1) inside the first rectangle?\", is_in_rectan1)\n",
    "print(\"Is (1, 1) inside the second rectangle?\", is_in_rectan2)\n",
    "print(\"Is (1, 1) inside both rectangles?\", is_in_rectan1 and is_in_rectan2)"
   ]
  },
  {
   "cell_type": "markdown",
   "id": "3304169d",
   "metadata": {},
   "source": [
    "# Question 6\n",
    "16. You can turn a word into pig-Latin using the following two rules (simplified):\n",
    "• If the word starts with a consonant, move that letter to the end and append\n",
    "'ay'. For example, 'happy' becomes 'appyhay' and 'pencil' becomes 'encilpay'.\n",
    "• If the word starts with a vowel, simply append 'way' to the end of the word.\n",
    "For example, 'enter' becomes 'enterway' and 'other' becomes 'otherway' . For\n",
    "our purposes, there are 5 vowels: a, e, i, o, u (so we count y as a consonant).\n",
    "Write a function pig() that takes a word (i.e., a string) as input and returns its pigLatin form. Your function should still work if the input word contains upper case\n",
    "characters. Your output should always be lower case however."
   ]
  },
  {
   "cell_type": "code",
   "execution_count": 8,
   "id": "fb1b6c67",
   "metadata": {},
   "outputs": [
    {
     "name": "stdout",
     "output_type": "stream",
     "text": [
      "appyhay\n",
      "encilpay\n",
      "enterway\n",
      "otherway\n"
     ]
    }
   ],
   "source": [
    "def pig(word):\n",
    "    \n",
    "    vow = ['a', 'e', 'i', 'o', 'u']\n",
    "    \n",
    "    # Convert the word to lowercase\n",
    "    word = word.lower()\n",
    "    \n",
    "    \n",
    "    if word[0] not in vow:\n",
    "    \n",
    "        pig_lat_word = word[1:] + word[0] + 'ay'\n",
    "    else:\n",
    "\n",
    "        pig_lat_word = word + 'way'\n",
    "    \n",
    "    return pig_lat_word\n",
    "\n",
    "\n",
    "print(pig('happy'))   \n",
    "print(pig('pencil'))  \n",
    "print(pig('enter'))   \n",
    "print(pig('other'))   "
   ]
  },
  {
   "cell_type": "markdown",
   "id": "8926c0ef",
   "metadata": {},
   "source": [
    "# Question 7\n",
    "File bloodtype1.txt records blood-types of patients (A, B, AB, O or OO) at a clinic.\n",
    "Write a function bldcount() that reads the file with name name and reports (i.e.,\n",
    "prints) how many patients there are in each bloodtype."
   ]
  },
  {
   "cell_type": "code",
   "execution_count": 21,
   "id": "bb1e8fc9",
   "metadata": {},
   "outputs": [
    {
     "name": "stdout",
     "output_type": "stream",
     "text": [
      "There are 15 patients of blood type A.\n",
      "There is one patient of blood type B.\n",
      "There are 13 patients of blood type AB.\n",
      "There are 15 patients of blood type O.\n",
      "There are no patients of blood type OO.\n"
     ]
    }
   ],
   "source": [
    "def bldcount(filename):\n",
    "    bld_type_count = {'A': 0, 'B': 0, 'AB': 0, 'O': 0, 'OO': 0}\n",
    "    \n",
    "    try:\n",
    "        with open(filename, 'r') as file:\n",
    "            for line in file:\n",
    "                bld_type = line.strip()\n",
    "                if bld_type in bld_type_count:\n",
    "                    bld_type_count[bld_type] += 1\n",
    "                else:\n",
    "                    print(f\"Illegal blood type '{bld_type}' found in the file.\")\n",
    "\n",
    "        for bld_type, count in bld_type_count.items():\n",
    "            if count == 1:\n",
    "                print(f\"There is one patient of blood type {bld_type}.\")\n",
    "            elif count > 1:\n",
    "                print(f\"There are {count} patients of blood type {bld_type}.\")\n",
    "            else:\n",
    "                print(f\"There are no patients of blood type {bld_type}.\")\n",
    "\n",
    "    except FileNotFoundError:\n",
    "        print(f\"File '{filename}' not found.\")\n",
    "    except Exception as e:\n",
    "        print(f\"An error occurred: {str(e)}\")\n",
    "\n",
    "bldcount('bloodtype1.txt')"
   ]
  },
  {
   "cell_type": "markdown",
   "id": "f09a854d",
   "metadata": {},
   "source": [
    "# Question 8"
   ]
  },
  {
   "cell_type": "code",
   "execution_count": 19,
   "id": "afd91f99",
   "metadata": {},
   "outputs": [
    {
     "name": "stdout",
     "output_type": "stream",
     "text": [
      "122.96544\n",
      "1.241401\n"
     ]
    }
   ],
   "source": [
    "def curconv(cur, amt):\n",
    "    try:\n",
    "        with open('currencies.txt', 'r') as file:\n",
    "            for line in file:\n",
    "                parts = line.split()\n",
    "                if len(parts) >= 2 and parts[0] == cur:\n",
    "                    exchange_rate = float(parts[1])\n",
    "                    return amt * exchange_rate\n",
    "            print(f\"Currency '{cur}' not found in the file.\")\n",
    "    except FileNotFoundError:\n",
    "        print(\"File 'currencies.txt' not found.\")\n",
    "    except Exception as e:\n",
    "        print(f\"An error occurred: {str(e)}\")\n",
    "\n",
    "\n",
    "print(curconv('EUR', 100))\n",
    "print(curconv('JPY', 100))"
   ]
  },
  {
   "cell_type": "markdown",
   "id": "6a38e9e7",
   "metadata": {},
   "source": [
    "# Question 9\n",
    "Each of the following will cause an exception (an error). Identify what type of\n",
    "exception each will cause."
   ]
  },
  {
   "cell_type": "markdown",
   "id": "27589326",
   "metadata": {},
   "source": [
    "01.Trying to add incompatible variables, as in\n",
    "adding 6 + ‘a’"
   ]
  },
  {
   "cell_type": "code",
   "execution_count": 3,
   "id": "e05bf381",
   "metadata": {},
   "outputs": [
    {
     "name": "stdout",
     "output_type": "stream",
     "text": [
      "Error: unsupported operand type(s) for +: 'int' and 'str'\n"
     ]
    }
   ],
   "source": [
    "try:\n",
    "    result = 6 + 'a'\n",
    "except TypeError as e:\n",
    "    print(\"Error:\", e)"
   ]
  },
  {
   "cell_type": "markdown",
   "id": "cd6a298e",
   "metadata": {},
   "source": [
    "This error message denotes a TypeError that occurred when attempting to add a string and an integer."
   ]
  },
  {
   "cell_type": "markdown",
   "id": "ca804a0a",
   "metadata": {},
   "source": [
    "02.Referring to the 12th item of a list that has only 10\n",
    "items."
   ]
  },
  {
   "cell_type": "code",
   "execution_count": 5,
   "id": "4e8f7390",
   "metadata": {},
   "outputs": [
    {
     "name": "stdout",
     "output_type": "stream",
     "text": [
      "Error: list index out of range\n"
     ]
    }
   ],
   "source": [
    "try:\n",
    "    my_list = [1, 2, 3, 4, 5, 6, 7, 8, 9, 10]\n",
    "    item = my_list[11] \n",
    "except IndexError as e:\n",
    "    print(\"Error:\", e)"
   ]
  },
  {
   "cell_type": "markdown",
   "id": "d499b027",
   "metadata": {},
   "source": [
    "This error code denotes an IndexError that occurred when an index that was beyond the range for the specified list was attempted to be accessed."
   ]
  },
  {
   "cell_type": "markdown",
   "id": "7aae99e2",
   "metadata": {},
   "source": [
    "03. Using a value that is out of range for a function’s\n",
    "input, such as calling math.sqrt(-1.0)"
   ]
  },
  {
   "cell_type": "code",
   "execution_count": 6,
   "id": "023e8025",
   "metadata": {},
   "outputs": [
    {
     "name": "stdout",
     "output_type": "stream",
     "text": [
      "Error: math domain error\n"
     ]
    }
   ],
   "source": [
    "import math\n",
    "\n",
    "try:\n",
    "    result = math.sqrt(-1.0)\n",
    "except ValueError as e:\n",
    "    print(\"Error:\", e)"
   ]
  },
  {
   "cell_type": "markdown",
   "id": "f43d8729",
   "metadata": {},
   "source": [
    "The attempted computation of a negative number's square root, which is not specified in the real number system, resulted in the ValueError indicated by this error code."
   ]
  },
  {
   "cell_type": "markdown",
   "id": "46bc706d",
   "metadata": {},
   "source": [
    "04.Using an undeclared variable, such as print(x)\n",
    "when x has not been defined"
   ]
  },
  {
   "cell_type": "code",
   "execution_count": 7,
   "id": "6d0e7054",
   "metadata": {},
   "outputs": [
    {
     "name": "stdout",
     "output_type": "stream",
     "text": [
      "Error: name 'x' is not defined\n"
     ]
    }
   ],
   "source": [
    "try:\n",
    "    print(x)  \n",
    "except NameError as e:\n",
    "    print(\"Error:\", e)"
   ]
  },
  {
   "cell_type": "markdown",
   "id": "33449396",
   "metadata": {},
   "source": [
    "The attempt to use a variable (x) that is not declared in the current scope results in this error message, which is a NameError."
   ]
  },
  {
   "cell_type": "markdown",
   "id": "101fb4c9",
   "metadata": {},
   "source": [
    "05.Trying to open a file that does not exist, such as\n",
    "mistyping the file name or looking in the wrong\n",
    "directory."
   ]
  },
  {
   "cell_type": "code",
   "execution_count": 8,
   "id": "042bb4d2",
   "metadata": {},
   "outputs": [
    {
     "name": "stdout",
     "output_type": "stream",
     "text": [
      "Error: [Errno 2] No such file or directory: 'nonexistent_file.txt'\n"
     ]
    }
   ],
   "source": [
    "try:\n",
    "    with open('nonexistent_file.txt', 'r') as file:\n",
    "        content = file.read()\n",
    "except FileNotFoundError as e:\n",
    "    print(\"Error:\", e)"
   ]
  },
  {
   "cell_type": "markdown",
   "id": "736f8bdb",
   "metadata": {},
   "source": [
    "When attempting to access a file (nonexistent_file.txt) that is not present in the current directory or on the given path, an error message known as a FileNotFoundError is displayed."
   ]
  },
  {
   "cell_type": "markdown",
   "id": "b006fc79",
   "metadata": {},
   "source": [
    "# Question 10\n",
    "Encryption is the process of hiding the meaning of a text by substituting letters in the\n",
    "message with other letters, according to some system. If the process is successful, no\n",
    "one but the intended recipient can understand the encrypted message. Cryptanalysis\n",
    "refers to attempts to undo the encryption, even if some details of the encryption are\n",
    "unknown (for example, if an encrypted message has been intercepted). The first step\n",
    "of cryptanalysis is often to build up a table of letter frequencies in the encrypted text.\n",
    "Assume that the string letters is already defined as\n",
    "'abcdefghijklmnopqrstuvwxyz'. Write a function called frequencies()\n",
    "that takes a string as its only parameter, and returns a list of integers, showing the\n",
    "number of times each character appears in the text. Your function may ignore any\n",
    "characters that are not in letters."
   ]
  },
  {
   "cell_type": "code",
   "execution_count": 10,
   "id": "1f3c402b",
   "metadata": {},
   "outputs": [
    {
     "name": "stdout",
     "output_type": "stream",
     "text": [
      "Frequencies: [0, 0, 0, 1, 1, 0, 0, 1, 0, 0, 0, 3, 0, 0, 2, 0, 0, 1, 0, 0, 0, 0, 1, 0, 0, 0]\n"
     ]
    }
   ],
   "source": [
    "def freq(text):\n",
    "    \n",
    "    let = 'abcdefghijklmnopqrstuvwxyz'\n",
    "    \n",
    "    let_frequencies = [0] * 26\n",
    "    \n",
    "    text = text.lower()\n",
    "    \n",
    "    \n",
    "    for char in text:\n",
    "        \n",
    "        if char in let:\n",
    "            \n",
    "            index = let.index(char)\n",
    "            # Increment the frequency count for that letter\n",
    "            let_frequencies[index] += 1\n",
    "    \n",
    "    return let_frequencies\n",
    "\n",
    "text = \"Hello World!\"\n",
    "print(\"Frequencies:\", freq(text))"
   ]
  },
  {
   "cell_type": "code",
   "execution_count": null,
   "id": "153735cf",
   "metadata": {},
   "outputs": [],
   "source": []
  }
 ],
 "metadata": {
  "kernelspec": {
   "display_name": "Python 3 (ipykernel)",
   "language": "python",
   "name": "python3"
  },
  "language_info": {
   "codemirror_mode": {
    "name": "ipython",
    "version": 3
   },
   "file_extension": ".py",
   "mimetype": "text/x-python",
   "name": "python",
   "nbconvert_exporter": "python",
   "pygments_lexer": "ipython3",
   "version": "3.11.7"
  }
 },
 "nbformat": 4,
 "nbformat_minor": 5
}
